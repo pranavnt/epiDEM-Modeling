{
 "metadata": {
  "language_info": {
   "codemirror_mode": {
    "name": "ipython",
    "version": 3
   },
   "file_extension": ".py",
   "mimetype": "text/x-python",
   "name": "python",
   "nbconvert_exporter": "python",
   "pygments_lexer": "ipython3",
   "version": "3.8.2-final"
  },
  "orig_nbformat": 2,
  "kernelspec": {
   "name": "python_defaultSpec_1599703998141",
   "display_name": "Python 3.8.2 64-bit"
  }
 },
 "nbformat": 4,
 "nbformat_minor": 2,
 "cells": [
  {
   "cell_type": "markdown",
   "metadata": {
    "tags": []
   },
   "source": [
    "# Data Analysis"
   ]
  },
  {
   "cell_type": "code",
   "execution_count": 2,
   "metadata": {},
   "outputs": [],
   "source": [
    "import numpy as np\n",
    "import pandas as pd \n",
    "from matplotlib import pyplot as plt \n",
    "import seaborn as sns\n",
    "\n",
    "sns.set()"
   ]
  },
  {
   "cell_type": "code",
   "execution_count": 3,
   "metadata": {},
   "outputs": [],
   "source": [
    "data = pd.read_excel('epiDEMdata.xlsx')"
   ]
  },
  {
   "cell_type": "code",
   "execution_count": 4,
   "metadata": {},
   "outputs": [
    {
     "output_type": "execute_result",
     "data": {
      "text/plain": "    Infection Chance    R0\n0                 10  1.30\n1                 15  1.71\n2                 20  1.64\n3                 25  2.22\n4                 30  2.74\n5                 35  2.39\n6                 40  3.60\n7                 45  4.09\n8                 50  3.66\n9                 55  3.60\n10                60  3.47\n11                65  4.23\n12                70  4.16\n13                75  4.09",
      "text/html": "<div>\n<style scoped>\n    .dataframe tbody tr th:only-of-type {\n        vertical-align: middle;\n    }\n\n    .dataframe tbody tr th {\n        vertical-align: top;\n    }\n\n    .dataframe thead th {\n        text-align: right;\n    }\n</style>\n<table border=\"1\" class=\"dataframe\">\n  <thead>\n    <tr style=\"text-align: right;\">\n      <th></th>\n      <th>Infection Chance</th>\n      <th>R0</th>\n    </tr>\n  </thead>\n  <tbody>\n    <tr>\n      <th>0</th>\n      <td>10</td>\n      <td>1.30</td>\n    </tr>\n    <tr>\n      <th>1</th>\n      <td>15</td>\n      <td>1.71</td>\n    </tr>\n    <tr>\n      <th>2</th>\n      <td>20</td>\n      <td>1.64</td>\n    </tr>\n    <tr>\n      <th>3</th>\n      <td>25</td>\n      <td>2.22</td>\n    </tr>\n    <tr>\n      <th>4</th>\n      <td>30</td>\n      <td>2.74</td>\n    </tr>\n    <tr>\n      <th>5</th>\n      <td>35</td>\n      <td>2.39</td>\n    </tr>\n    <tr>\n      <th>6</th>\n      <td>40</td>\n      <td>3.60</td>\n    </tr>\n    <tr>\n      <th>7</th>\n      <td>45</td>\n      <td>4.09</td>\n    </tr>\n    <tr>\n      <th>8</th>\n      <td>50</td>\n      <td>3.66</td>\n    </tr>\n    <tr>\n      <th>9</th>\n      <td>55</td>\n      <td>3.60</td>\n    </tr>\n    <tr>\n      <th>10</th>\n      <td>60</td>\n      <td>3.47</td>\n    </tr>\n    <tr>\n      <th>11</th>\n      <td>65</td>\n      <td>4.23</td>\n    </tr>\n    <tr>\n      <th>12</th>\n      <td>70</td>\n      <td>4.16</td>\n    </tr>\n    <tr>\n      <th>13</th>\n      <td>75</td>\n      <td>4.09</td>\n    </tr>\n  </tbody>\n</table>\n</div>"
     },
     "metadata": {},
     "execution_count": 4
    }
   ],
   "source": [
    "data"
   ]
  },
  {
   "cell_type": "code",
   "execution_count": 5,
   "metadata": {},
   "outputs": [
    {
     "output_type": "execute_result",
     "data": {
      "text/plain": "0     10\n1     15\n2     20\n3     25\n4     30\n5     35\n6     40\n7     45\n8     50\n9     55\n10    60\n11    65\n12    70\n13    75\nName: Infection Chance, dtype: int64"
     },
     "metadata": {},
     "execution_count": 5
    }
   ],
   "source": [
    "X = data['Infection Chance']\n",
    "X"
   ]
  },
  {
   "cell_type": "code",
   "execution_count": 6,
   "metadata": {},
   "outputs": [
    {
     "output_type": "execute_result",
     "data": {
      "text/plain": "0     1.30\n1     1.71\n2     1.64\n3     2.22\n4     2.74\n5     2.39\n6     3.60\n7     4.09\n8     3.66\n9     3.60\n10    3.47\n11    4.23\n12    4.16\n13    4.09\nName: R0, dtype: float64"
     },
     "metadata": {},
     "execution_count": 6
    }
   ],
   "source": [
    "y = data['R0']\n",
    "y"
   ]
  },
  {
   "cell_type": "code",
   "execution_count": null,
   "metadata": {},
   "outputs": [],
   "source": []
  }
 ]
}